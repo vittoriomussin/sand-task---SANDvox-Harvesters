{
 "cells": [
  {
   "cell_type": "code",
   "execution_count": 1,
   "id": "1e899af9",
   "metadata": {},
   "outputs": [],
   "source": [
    "import os\n",
    "from scipy.io import wavfile\n",
    "import pandas as pd\n",
    "import numpy as np"
   ]
  },
  {
   "cell_type": "markdown",
   "id": "93b036a2",
   "metadata": {},
   "source": [
    "Load the data from .wav and .xlsx files"
   ]
  },
  {
   "cell_type": "code",
   "execution_count": 2,
   "id": "c40cc5ee",
   "metadata": {},
   "outputs": [
    {
     "data": {
      "application/vnd.microsoft.datawrangler.viewer.v0+json": {
       "columns": [
        {
         "name": "index",
         "rawType": "int64",
         "type": "integer"
        },
        {
         "name": "filename",
         "rawType": "object",
         "type": "string"
        },
        {
         "name": "patient_id",
         "rawType": "object",
         "type": "string"
        },
        {
         "name": "exercise",
         "rawType": "object",
         "type": "string"
        },
        {
         "name": "sample_rate",
         "rawType": "int64",
         "type": "integer"
        },
        {
         "name": "audio",
         "rawType": "object",
         "type": "unknown"
        }
       ],
       "ref": "90ea15ee-7d6f-4be6-b6b6-dd1a77478c03",
       "rows": [
        [
         "0",
         "ID000_phonationA.wav",
         "ID000",
         "phonationA",
         "8000",
         "[ 0  0  0 ... 46 17 53]"
        ],
        [
         "1",
         "ID001_phonationA.wav",
         "ID001",
         "phonationA",
         "8000",
         "[   0    0    0 ...  474 1527 1358]"
        ],
        [
         "2",
         "ID002_phonationA.wav",
         "ID002",
         "phonationA",
         "8000",
         "[  0   0   0 ... -29  11  29]"
        ],
        [
         "3",
         "ID003_phonationA.wav",
         "ID003",
         "phonationA",
         "8000",
         "[  0   0   0 ... -52 -24  26]"
        ],
        [
         "4",
         "ID005_phonationA.wav",
         "ID005",
         "phonationA",
         "8000",
         "[ 0  0  0 ... 27 20 48]"
        ]
       ],
       "shape": {
        "columns": 5,
        "rows": 5
       }
      },
      "text/html": [
       "<div>\n",
       "<style scoped>\n",
       "    .dataframe tbody tr th:only-of-type {\n",
       "        vertical-align: middle;\n",
       "    }\n",
       "\n",
       "    .dataframe tbody tr th {\n",
       "        vertical-align: top;\n",
       "    }\n",
       "\n",
       "    .dataframe thead th {\n",
       "        text-align: right;\n",
       "    }\n",
       "</style>\n",
       "<table border=\"1\" class=\"dataframe\">\n",
       "  <thead>\n",
       "    <tr style=\"text-align: right;\">\n",
       "      <th></th>\n",
       "      <th>filename</th>\n",
       "      <th>patient_id</th>\n",
       "      <th>exercise</th>\n",
       "      <th>sample_rate</th>\n",
       "      <th>audio</th>\n",
       "    </tr>\n",
       "  </thead>\n",
       "  <tbody>\n",
       "    <tr>\n",
       "      <th>0</th>\n",
       "      <td>ID000_phonationA.wav</td>\n",
       "      <td>ID000</td>\n",
       "      <td>phonationA</td>\n",
       "      <td>8000</td>\n",
       "      <td>[0, 0, 0, 0, 0, 0, 0, 0, 0, 0, 0, 0, 0, 0, 0, ...</td>\n",
       "    </tr>\n",
       "    <tr>\n",
       "      <th>1</th>\n",
       "      <td>ID001_phonationA.wav</td>\n",
       "      <td>ID001</td>\n",
       "      <td>phonationA</td>\n",
       "      <td>8000</td>\n",
       "      <td>[0, 0, 0, 0, 0, 0, 0, 0, 0, 0, 0, 0, 0, 0, 0, ...</td>\n",
       "    </tr>\n",
       "    <tr>\n",
       "      <th>2</th>\n",
       "      <td>ID002_phonationA.wav</td>\n",
       "      <td>ID002</td>\n",
       "      <td>phonationA</td>\n",
       "      <td>8000</td>\n",
       "      <td>[0, 0, 0, 0, 0, 0, 0, 0, 0, 0, 0, 0, 0, 0, 0, ...</td>\n",
       "    </tr>\n",
       "    <tr>\n",
       "      <th>3</th>\n",
       "      <td>ID003_phonationA.wav</td>\n",
       "      <td>ID003</td>\n",
       "      <td>phonationA</td>\n",
       "      <td>8000</td>\n",
       "      <td>[0, 0, 0, 0, 0, 0, 0, 0, 0, 0, 0, 0, 0, 0, 0, ...</td>\n",
       "    </tr>\n",
       "    <tr>\n",
       "      <th>4</th>\n",
       "      <td>ID005_phonationA.wav</td>\n",
       "      <td>ID005</td>\n",
       "      <td>phonationA</td>\n",
       "      <td>8000</td>\n",
       "      <td>[0, 0, 0, 0, 0, 0, 0, 0, 0, 0, 0, 0, 0, 0, 0, ...</td>\n",
       "    </tr>\n",
       "  </tbody>\n",
       "</table>\n",
       "</div>"
      ],
      "text/plain": [
       "               filename patient_id    exercise  sample_rate  \\\n",
       "0  ID000_phonationA.wav      ID000  phonationA         8000   \n",
       "1  ID001_phonationA.wav      ID001  phonationA         8000   \n",
       "2  ID002_phonationA.wav      ID002  phonationA         8000   \n",
       "3  ID003_phonationA.wav      ID003  phonationA         8000   \n",
       "4  ID005_phonationA.wav      ID005  phonationA         8000   \n",
       "\n",
       "                                               audio  \n",
       "0  [0, 0, 0, 0, 0, 0, 0, 0, 0, 0, 0, 0, 0, 0, 0, ...  \n",
       "1  [0, 0, 0, 0, 0, 0, 0, 0, 0, 0, 0, 0, 0, 0, 0, ...  \n",
       "2  [0, 0, 0, 0, 0, 0, 0, 0, 0, 0, 0, 0, 0, 0, 0, ...  \n",
       "3  [0, 0, 0, 0, 0, 0, 0, 0, 0, 0, 0, 0, 0, 0, 0, ...  \n",
       "4  [0, 0, 0, 0, 0, 0, 0, 0, 0, 0, 0, 0, 0, 0, 0, ...  "
      ]
     },
     "execution_count": 2,
     "metadata": {},
     "output_type": "execute_result"
    }
   ],
   "source": [
    "# Define the root folder containing all subfolders\n",
    "root_folder = \"task1/training\"\n",
    "\n",
    "# Prepare a list to store data\n",
    "data = []\n",
    "\n",
    "# Walk through all subfolders and files\n",
    "for subdir, _, files in os.walk(root_folder):\n",
    "    for file in files:\n",
    "        if file.endswith('.wav'):\n",
    "            filepath = os.path.join(subdir, file)\n",
    "            sample_rate, audio = wavfile.read(filepath)\n",
    "            # Store subfolder name for reference\n",
    "            subfolder = os.path.basename(subdir)\n",
    "            data.append({\n",
    "                'filename': file,\n",
    "                'patient_id': file.split('_')[0],\n",
    "                'exercise': subfolder,\n",
    "                'sample_rate': sample_rate,\n",
    "                'audio': audio\n",
    "            })\n",
    "\n",
    "# Create a DataFrame\n",
    "df = pd.DataFrame(data)\n",
    "\n",
    "# Show the first few rows\n",
    "df.head()"
   ]
  },
  {
   "cell_type": "code",
   "execution_count": 3,
   "id": "7bab433b",
   "metadata": {},
   "outputs": [
    {
     "data": {
      "application/vnd.microsoft.datawrangler.viewer.v0+json": {
       "columns": [
        {
         "name": "index",
         "rawType": "int64",
         "type": "integer"
        },
        {
         "name": "filename",
         "rawType": "object",
         "type": "string"
        },
        {
         "name": "patient_id",
         "rawType": "object",
         "type": "string"
        },
        {
         "name": "exercise",
         "rawType": "object",
         "type": "string"
        },
        {
         "name": "sample_rate",
         "rawType": "int64",
         "type": "integer"
        },
        {
         "name": "audio",
         "rawType": "object",
         "type": "unknown"
        },
        {
         "name": "Age",
         "rawType": "int64",
         "type": "integer"
        },
        {
         "name": "Sex",
         "rawType": "object",
         "type": "string"
        },
        {
         "name": "Class",
         "rawType": "int64",
         "type": "integer"
        }
       ],
       "ref": "6689d5d7-37cc-4beb-a8f7-6a527be702f2",
       "rows": [
        [
         "0",
         "ID000_phonationA.wav",
         "ID000",
         "phonationA",
         "8000",
         "[ 0  0  0 ... 46 17 53]",
         "80",
         "M",
         "5"
        ],
        [
         "1",
         "ID001_phonationA.wav",
         "ID001",
         "phonationA",
         "8000",
         "[   0    0    0 ...  474 1527 1358]",
         "61",
         "F",
         "5"
        ],
        [
         "2",
         "ID002_phonationA.wav",
         "ID002",
         "phonationA",
         "8000",
         "[  0   0   0 ... -29  11  29]",
         "51",
         "F",
         "4"
        ],
        [
         "3",
         "ID003_phonationA.wav",
         "ID003",
         "phonationA",
         "8000",
         "[  0   0   0 ... -52 -24  26]",
         "59",
         "M",
         "3"
        ],
        [
         "4",
         "ID005_phonationA.wav",
         "ID005",
         "phonationA",
         "8000",
         "[ 0  0  0 ... 27 20 48]",
         "80",
         "F",
         "5"
        ]
       ],
       "shape": {
        "columns": 8,
        "rows": 5
       }
      },
      "text/html": [
       "<div>\n",
       "<style scoped>\n",
       "    .dataframe tbody tr th:only-of-type {\n",
       "        vertical-align: middle;\n",
       "    }\n",
       "\n",
       "    .dataframe tbody tr th {\n",
       "        vertical-align: top;\n",
       "    }\n",
       "\n",
       "    .dataframe thead th {\n",
       "        text-align: right;\n",
       "    }\n",
       "</style>\n",
       "<table border=\"1\" class=\"dataframe\">\n",
       "  <thead>\n",
       "    <tr style=\"text-align: right;\">\n",
       "      <th></th>\n",
       "      <th>filename</th>\n",
       "      <th>patient_id</th>\n",
       "      <th>exercise</th>\n",
       "      <th>sample_rate</th>\n",
       "      <th>audio</th>\n",
       "      <th>Age</th>\n",
       "      <th>Sex</th>\n",
       "      <th>Class</th>\n",
       "    </tr>\n",
       "  </thead>\n",
       "  <tbody>\n",
       "    <tr>\n",
       "      <th>0</th>\n",
       "      <td>ID000_phonationA.wav</td>\n",
       "      <td>ID000</td>\n",
       "      <td>phonationA</td>\n",
       "      <td>8000</td>\n",
       "      <td>[0, 0, 0, 0, 0, 0, 0, 0, 0, 0, 0, 0, 0, 0, 0, ...</td>\n",
       "      <td>80</td>\n",
       "      <td>M</td>\n",
       "      <td>5</td>\n",
       "    </tr>\n",
       "    <tr>\n",
       "      <th>1</th>\n",
       "      <td>ID001_phonationA.wav</td>\n",
       "      <td>ID001</td>\n",
       "      <td>phonationA</td>\n",
       "      <td>8000</td>\n",
       "      <td>[0, 0, 0, 0, 0, 0, 0, 0, 0, 0, 0, 0, 0, 0, 0, ...</td>\n",
       "      <td>61</td>\n",
       "      <td>F</td>\n",
       "      <td>5</td>\n",
       "    </tr>\n",
       "    <tr>\n",
       "      <th>2</th>\n",
       "      <td>ID002_phonationA.wav</td>\n",
       "      <td>ID002</td>\n",
       "      <td>phonationA</td>\n",
       "      <td>8000</td>\n",
       "      <td>[0, 0, 0, 0, 0, 0, 0, 0, 0, 0, 0, 0, 0, 0, 0, ...</td>\n",
       "      <td>51</td>\n",
       "      <td>F</td>\n",
       "      <td>4</td>\n",
       "    </tr>\n",
       "    <tr>\n",
       "      <th>3</th>\n",
       "      <td>ID003_phonationA.wav</td>\n",
       "      <td>ID003</td>\n",
       "      <td>phonationA</td>\n",
       "      <td>8000</td>\n",
       "      <td>[0, 0, 0, 0, 0, 0, 0, 0, 0, 0, 0, 0, 0, 0, 0, ...</td>\n",
       "      <td>59</td>\n",
       "      <td>M</td>\n",
       "      <td>3</td>\n",
       "    </tr>\n",
       "    <tr>\n",
       "      <th>4</th>\n",
       "      <td>ID005_phonationA.wav</td>\n",
       "      <td>ID005</td>\n",
       "      <td>phonationA</td>\n",
       "      <td>8000</td>\n",
       "      <td>[0, 0, 0, 0, 0, 0, 0, 0, 0, 0, 0, 0, 0, 0, 0, ...</td>\n",
       "      <td>80</td>\n",
       "      <td>F</td>\n",
       "      <td>5</td>\n",
       "    </tr>\n",
       "  </tbody>\n",
       "</table>\n",
       "</div>"
      ],
      "text/plain": [
       "               filename patient_id    exercise  sample_rate  \\\n",
       "0  ID000_phonationA.wav      ID000  phonationA         8000   \n",
       "1  ID001_phonationA.wav      ID001  phonationA         8000   \n",
       "2  ID002_phonationA.wav      ID002  phonationA         8000   \n",
       "3  ID003_phonationA.wav      ID003  phonationA         8000   \n",
       "4  ID005_phonationA.wav      ID005  phonationA         8000   \n",
       "\n",
       "                                               audio  Age Sex  Class  \n",
       "0  [0, 0, 0, 0, 0, 0, 0, 0, 0, 0, 0, 0, 0, 0, 0, ...   80   M      5  \n",
       "1  [0, 0, 0, 0, 0, 0, 0, 0, 0, 0, 0, 0, 0, 0, 0, ...   61   F      5  \n",
       "2  [0, 0, 0, 0, 0, 0, 0, 0, 0, 0, 0, 0, 0, 0, 0, ...   51   F      4  \n",
       "3  [0, 0, 0, 0, 0, 0, 0, 0, 0, 0, 0, 0, 0, 0, 0, ...   59   M      3  \n",
       "4  [0, 0, 0, 0, 0, 0, 0, 0, 0, 0, 0, 0, 0, 0, 0, ...   80   F      5  "
      ]
     },
     "execution_count": 3,
     "metadata": {},
     "output_type": "execute_result"
    }
   ],
   "source": [
    "# Load the Excel file with patient info\n",
    "excel_path = \"task1/sand_task_1.xlsx\"\n",
    "patient_info = pd.read_excel(excel_path, usecols=[\"ID\", \"Age\", \"Sex\", \"Class\"], engine=\"openpyxl\")\n",
    "\n",
    "# Merge patient info into your main DataFrame\n",
    "df = df.merge(patient_info, left_on=\"patient_id\", right_on=\"ID\", how=\"left\")\n",
    "\n",
    "# Drop the redundant 'ID' column if desired\n",
    "df = df.drop(columns=[\"ID\"])\n",
    "\n",
    "# Show the updated DataFrame\n",
    "df.head()"
   ]
  },
  {
   "cell_type": "markdown",
   "id": "c5604c01",
   "metadata": {},
   "source": [
    "Define functions for getting the data from the df"
   ]
  },
  {
   "cell_type": "code",
   "execution_count": 4,
   "id": "fa3893a3",
   "metadata": {},
   "outputs": [],
   "source": [
    "from typing import Tuple, List\n",
    "\n",
    "max_time = 15 # Mazimum time to read in exercises, s\n",
    "fs = df['sample_rate'].iloc[0]\n",
    "exercise_list = []\n",
    "for ex in df['exercise'].unique():\n",
    "    if 'rhythm' in ex.lower():  # Select only rhythm exercises\n",
    "        exercise_list.append(ex)\n",
    "\n",
    "def load_data(df: pd.DataFrame, fs=fs, max_time=max_time, exercise_list=exercise_list) -> Tuple[np.ndarray, List[str], np.ndarray]:\n",
    "    df_rhythm = df[df['exercise'].isin(exercise_list)].reset_index(drop=True)\n",
    "    patient_ids = df_rhythm['patient_id'].unique()  # preserves first-seen order\n",
    "    n_pz = len(patient_ids)\n",
    "    n_ex = len(exercise_list)\n",
    "    max_t = int(max_time * fs)\n",
    "\n",
    "    data_matrix = np.zeros((n_pz, n_ex, max_t))\n",
    "    patient_id_to_index = {pid: idx for idx, pid in enumerate(patient_ids)}\n",
    "    exercise_to_index = {ex: idx for idx, ex in enumerate(exercise_list)}\n",
    "\n",
    "    for _, row in df_rhythm.iterrows():\n",
    "        pid_idx = patient_id_to_index[row['patient_id']]\n",
    "        ex_idx = exercise_to_index[row['exercise']]\n",
    "        audio = np.array(row['audio'])\n",
    "        end = min(len(audio), max_t)\n",
    "        data_matrix[pid_idx, ex_idx, :end] = audio[:end]\n",
    "\n",
    "    sex_list = [df.loc[df['patient_id'] == pid, 'Sex'].iloc[0] for pid in patient_ids]\n",
    "\n",
    "    return data_matrix, sex_list, patient_ids\n",
    "\n"
   ]
  },
  {
   "cell_type": "markdown",
   "id": "d4e85521",
   "metadata": {},
   "source": [
    "Define the preprocessing functions"
   ]
  },
  {
   "cell_type": "code",
   "execution_count": 5,
   "id": "3fccdf9c",
   "metadata": {},
   "outputs": [],
   "source": [
    "import numpy as np\n",
    "from scipy.signal import butter, lfilter\n",
    "from scipy.interpolate import interp1d\n",
    "from tensorflow.keras.models import load_model\n",
    "import joblib\n",
    "\n",
    "# ====== Settings ======\n",
    "max_time = 15\n",
    "fs = df['sample_rate'].iloc[0]\n",
    "cutoff = 2000\n",
    "f_max = 2000\n",
    "order = 4\n",
    "reducing_time_factor = 0.6\n",
    "augmentation_factor = 10\n",
    "smooth_dim = 200\n",
    "smooth_kind = 'quadratic'\n",
    "smooth_fill_value = \"extrapolate\"\n",
    "n_cl = 5\n",
    "\n",
    "# ====== Load models ======\n",
    "NN_binary_M = load_model('models/NN_rhythm_binary_M.keras')\n",
    "NN_binary_F = load_model('models/NN_rhythm_binary_F.keras')\n",
    "NN_categorical_M = load_model('models/NN_rhythm_categorical_1_4_M.keras')\n",
    "NN_categorical_F = load_model('models/NN_rhythm_categorical_1_4_F.keras')\n",
    "\n",
    "# Load scalers\n",
    "scaler_M = joblib.load(\"models/XM_rhythm_scaler.pkl\")\n",
    "scaler_F = joblib.load(\"models/XF_rhythm_scaler.pkl\")\n",
    "\n",
    "# ====== Helper functions ======\n",
    "def butter_lowpass_filter(signal, cutoff=cutoff, fs=fs, order=order):\n",
    "    nyq = 0.5 * fs\n",
    "    normal_cutoff = cutoff / nyq\n",
    "    b, a = butter(order, normal_cutoff, btype='low', analog=False)\n",
    "    return lfilter(b, a, signal)\n",
    "\n",
    "def window_slice(x, reduce_ratio=0.5):\n",
    "    target_len = int(reduce_ratio * x.shape[-1])\n",
    "    if target_len >= x.shape[-1]:\n",
    "        return x\n",
    "    start = np.random.randint(0, x.shape[-1] - target_len)\n",
    "    return x[..., start:start+target_len]\n",
    "\n",
    "def preprocess_single_signal(signal):\n",
    "    \"\"\"Preprocess one 1D signal: augment, filter, FFT, interpolate.\"\"\"\n",
    "    # Convert to float32\n",
    "    signal = signal.astype(np.float32)\n",
    "    \n",
    "    augmented_chunks = []\n",
    "    for _ in range(augmentation_factor):\n",
    "        sliced = window_slice(signal, reducing_time_factor)\n",
    "        filtered = butter_lowpass_filter(sliced)\n",
    "        fft_vals = np.fft.rfft(filtered)\n",
    "        freqs = np.fft.rfftfreq(len(filtered), d=1/fs)\n",
    "        mask = freqs <= f_max\n",
    "        fft_vals = np.abs(fft_vals[mask])\n",
    "        f = interp1d(freqs[mask], fft_vals, kind=smooth_kind, fill_value=smooth_fill_value)\n",
    "        interpolated = f(np.linspace(0, f_max, smooth_dim))\n",
    "        augmented_chunks.append(interpolated)\n",
    "    \n",
    "    return np.stack(augmented_chunks, axis=0)  # shape -> (augmentation_factor, smooth_dim)\n",
    "\n",
    "def preprocess_data(signals):\n",
    "    \"\"\"Process all patients in a memory-efficient way.\"\"\"\n",
    "    n_patients, n_ex, t_len = signals.shape\n",
    "    # Preallocate final array\n",
    "    X_processed = np.empty((n_patients, augmentation_factor, n_ex, smooth_dim), dtype=np.float32)\n",
    "    \n",
    "    for i in range(n_patients):\n",
    "        for j in range(n_ex):\n",
    "            X_processed[i, :, j, :] = preprocess_single_signal(signals[i, j])\n",
    "    \n",
    "    return X_processed\n"
   ]
  },
  {
   "cell_type": "markdown",
   "id": "49a66e83",
   "metadata": {},
   "source": [
    "Define the actual classifier"
   ]
  },
  {
   "cell_type": "code",
   "execution_count": 6,
   "id": "a4080997",
   "metadata": {},
   "outputs": [],
   "source": [
    "import tensorflow as tf\n",
    "from scipy.stats import mode\n",
    "\n",
    "def mixed_model(X: np.ndarray, sex_list: list[str], n_cl=n_cl) -> np.ndarray:\n",
    "    \"\"\"\n",
    "    Predict categorical distribution for patients with mixed sexes.\n",
    "    Uses direct model calls (not .predict) to avoid retracing.\n",
    "    \"\"\"\n",
    "    n_patients = X.shape[0]\n",
    "    out = np.zeros((n_patients, n_cl), dtype=np.float32)\n",
    "    sex_array = np.array(sex_list)\n",
    "\n",
    "    # Convert once to tensor\n",
    "    X_tensor = tf.convert_to_tensor(X, dtype=tf.float32)\n",
    "\n",
    "    # ---- Process males ----\n",
    "    idx_M = np.where(sex_array == 'M')[0]\n",
    "    if len(idx_M) > 0:\n",
    "        X_M = tf.gather(X_tensor, idx_M)\n",
    "        healthy_pred_M = NN_binary_M(X_M, training=False).numpy()\n",
    "        is_healthy_M = np.argmax(healthy_pred_M, axis=1) == 1\n",
    "\n",
    "        out[idx_M[is_healthy_M], -1] = 1\n",
    "        if np.any(~is_healthy_M):\n",
    "            cat_pred_M = NN_categorical_M(tf.gather(X_M, np.where(~is_healthy_M)[0]), training=False).numpy()\n",
    "            out[idx_M[~is_healthy_M], :n_cl - 1] = cat_pred_M\n",
    "\n",
    "    # ---- Process females ----\n",
    "    idx_F = np.where(sex_array == 'F')[0]\n",
    "    if len(idx_F) > 0:\n",
    "        X_F = tf.gather(X_tensor, idx_F)\n",
    "        healthy_pred_F = NN_binary_F(X_F, training=False).numpy()\n",
    "        is_healthy_F = np.argmax(healthy_pred_F, axis=1) == 1\n",
    "\n",
    "        out[idx_F[is_healthy_F], -1] = 1\n",
    "        if np.any(~is_healthy_F):\n",
    "            cat_pred_F = NN_categorical_F(tf.gather(X_F, np.where(~is_healthy_F)[0]), training=False).numpy()\n",
    "            out[idx_F[~is_healthy_F], :n_cl - 1] = cat_pred_F\n",
    "\n",
    "    return out\n",
    "\n",
    "\n",
    "def classify_data(signals, sex_list):\n",
    "    \"\"\"Classify patient signals with minimal memory usage + sex-specific scaling.\"\"\"\n",
    "    X_processed = preprocess_data(signals)  \n",
    "    n_patients, n_chunks, n_ex, n_features = X_processed.shape\n",
    "\n",
    "    # Flatten into (n_samples * n_chunks * n_ex, n_features)\n",
    "    flat_X = X_processed.reshape(-1, n_features)\n",
    "    expanded_sex = np.repeat(sex_list, n_chunks * n_ex)\n",
    "\n",
    "    # ---- Apply scaling separately for M and F ----\n",
    "    X_scaled = np.zeros_like(flat_X, dtype=np.float32)\n",
    "\n",
    "    idx_M = np.where(expanded_sex == \"M\")[0]\n",
    "    if len(idx_M) > 0:\n",
    "        X_scaled[idx_M] = scaler_M.transform(flat_X[idx_M])\n",
    "\n",
    "    idx_F = np.where(expanded_sex == \"F\")[0]\n",
    "    if len(idx_F) > 0:\n",
    "        X_scaled[idx_F] = scaler_F.transform(flat_X[idx_F])\n",
    "\n",
    "    # ---- Model prediction ----\n",
    "    predictions = mixed_model(X_scaled, expanded_sex)\n",
    "    predictions = predictions.reshape(n_patients, n_chunks, n_ex, n_cl)\n",
    "\n",
    "    # Convert to class predictions\n",
    "    pred_classes = np.argmax(predictions, axis=-1)   # shape: (n_patients, n_chunks, n_ex)\n",
    "\n",
    "    # Collapse chunks and exercises, then take the mode\n",
    "    modas = mode(pred_classes.reshape(n_patients, -1), axis=1)\n",
    "\n",
    "    # Return the most frequent class per patient\n",
    "    return modas.mode.squeeze()"
   ]
  },
  {
   "cell_type": "markdown",
   "id": "0121fa30",
   "metadata": {},
   "source": [
    "Classify Actual data"
   ]
  },
  {
   "cell_type": "code",
   "execution_count": 8,
   "id": "1bd473e0",
   "metadata": {},
   "outputs": [
    {
     "name": "stdout",
     "output_type": "stream",
     "text": [
      "F1 score: 0.7850745808918482\n"
     ]
    },
    {
     "data": {
      "image/png": "[encoded data removed]",
      "text/plain": [
       "<Figure size 800x600 with 2 Axes>"
      ]
     },
     "metadata": {},
     "output_type": "display_data"
    }
   ],
   "source": [
    "# For now select only a subset of data\n",
    "ids = df['patient_id'].unique()\n",
    "n = ids.shape[0]\n",
    "# n = 10\n",
    "ids_trim = ids[:n]\n",
    "df_trim = df[df['patient_id'].isin(ids_trim)]\n",
    "\n",
    "\n",
    "signals, sex_list, patient_ids = load_data(df_trim)\n",
    "\n",
    "# Align y_true with the patient order\n",
    "y_true = (\n",
    "    df_trim.groupby('patient_id')['Class']\n",
    "    .unique()\n",
    "    .map(lambda x: x[0])\n",
    "    .reindex(patient_ids)  # reorder to match signals\n",
    "    .to_numpy()\n",
    "    .astype(int) - 1\n",
    ")\n",
    "y_pred = classify_data(signals, sex_list)\n",
    "\n",
    "from sklearn.metrics import confusion_matrix, f1_score\n",
    "import seaborn as sns\n",
    "# Compute the f1 score\n",
    "f1 = f1_score(y_true, y_pred, average='macro')\n",
    "print('F1 score:', f1)\n",
    "\n",
    "# Create the confusion matrix\n",
    "cm = confusion_matrix(y_true, y_pred, labels=range(n_cl), normalize='true')\n",
    "\n",
    "# Plot the confusion matrix\n",
    "import matplotlib.pyplot as plt\n",
    "plt.figure(figsize=(8, 6))\n",
    "sns.heatmap(cm, annot=True, fmt='.2f', cmap='Blues', xticklabels=range(1,n_cl+1), yticklabels=range(1,n_cl+1))\n",
    "plt.xlabel('Predicted')\n",
    "plt.ylabel('Actual')\n",
    "plt.title(f'Confusion Matrix - F1: {f1}')\n",
    "plt.show()"
   ]
  },
  {
   "cell_type": "markdown",
   "id": "d00aa126",
   "metadata": {},
   "source": [
    "Now do it only on not seen patients"
   ]
  },
  {
   "cell_type": "code",
   "execution_count": 9,
   "id": "a75a36ac",
   "metadata": {},
   "outputs": [
    {
     "name": "stdout",
     "output_type": "stream",
     "text": [
      "F1 score: 0.2089612403100775\n"
     ]
    },
    {
     "data": {
      "image/png": "[encoded data removed]",
      "text/plain": [
       "<Figure size 800x600 with 2 Axes>"
      ]
     },
     "metadata": {},
     "output_type": "display_data"
    }
   ],
   "source": [
    "with open(\"excluded_patient_ids.txt\", \"r\") as file:\n",
    "    excluded_ids = [line.strip() for line in file]\n",
    "\n",
    "df_excl = df[df['patient_id'].isin(excluded_ids)]\n",
    "\n",
    "df_rhythm = df_excl[df_excl['exercise'].isin(exercise_list)].reset_index(drop=True)\n",
    "patient_ids = df_rhythm['patient_id'].unique()  # preserves first-seen order\n",
    "\n",
    "signals, sex_list, patient_ids = load_data(df_excl)\n",
    "\n",
    "# Align y_true with the patient order\n",
    "y_true = (\n",
    "    df_excl.groupby('patient_id')['Class']\n",
    "    .unique()\n",
    "    .map(lambda x: x[0])\n",
    "    .reindex(patient_ids)  # reorder to match signals\n",
    "    .to_numpy()\n",
    "    .astype(int) - 1\n",
    ")\n",
    "y_pred = classify_data(signals, sex_list)\n",
    "\n",
    "\n",
    "from sklearn.metrics import confusion_matrix, f1_score\n",
    "import seaborn as sns\n",
    "# Compute the f1 score\n",
    "f1 = f1_score(y_true, y_pred, average='macro')\n",
    "print('F1 score:', f1)\n",
    "\n",
    "# Create the confusion matrix\n",
    "cm = confusion_matrix(y_true, y_pred, labels=range(n_cl), normalize='true')\n",
    "\n",
    "# Plot the confusion matrix\n",
    "import matplotlib.pyplot as plt\n",
    "plt.figure(figsize=(8, 6))\n",
    "sns.heatmap(cm, annot=True, fmt='.2f', cmap='Blues', xticklabels=range(1,n_cl+1), yticklabels=range(1,n_cl+1))\n",
    "plt.xlabel('Predicted')\n",
    "plt.ylabel('Actual')\n",
    "plt.title(f'Confusion Matrix - F1: {f1}')\n",
    "plt.show()"
   ]
  }
 ],
 "metadata": {
  "kernelspec": {
   "display_name": "Python 3",
   "language": "python",
   "name": "python3"
  },
  "language_info": {
   "codemirror_mode": {
    "name": "ipython",
    "version": 3
   },
   "file_extension": ".py",
   "mimetype": "text/x-python",
   "name": "python",
   "nbconvert_exporter": "python",
   "pygments_lexer": "ipython3",
   "version": "3.11.3"
  }
 },
 "nbformat": 4,
 "nbformat_minor": 5
}
